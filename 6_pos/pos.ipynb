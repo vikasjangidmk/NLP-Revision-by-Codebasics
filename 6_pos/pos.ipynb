{
 "cells": [
  {
   "cell_type": "code",
   "execution_count": 1,
   "metadata": {},
   "outputs": [],
   "source": [
    "import spacy"
   ]
  },
  {
   "cell_type": "code",
   "execution_count": 2,
   "metadata": {},
   "outputs": [],
   "source": [
    "nlp = spacy.load(\"en_core_web_sm\")"
   ]
  },
  {
   "cell_type": "code",
   "execution_count": 5,
   "metadata": {},
   "outputs": [
    {
     "data": {
      "text/plain": [
       "['tok2vec', 'tagger', 'parser', 'attribute_ruler', 'lemmatizer', 'ner']"
      ]
     },
     "execution_count": 5,
     "metadata": {},
     "output_type": "execute_result"
    }
   ],
   "source": [
    "nlp.pipe_names"
   ]
  },
  {
   "cell_type": "code",
   "execution_count": 7,
   "metadata": {},
   "outputs": [
    {
     "name": "stdout",
     "output_type": "stream",
     "text": [
      "Elon | PROPN | proper noun | NNP | noun, proper singular\n",
      "flew | VERB | verb | VBD | verb, past tense\n",
      "to | ADP | adposition | IN | conjunction, subordinating or preposition\n",
      "mars | NOUN | noun | NNS | noun, plural\n",
      "yesterday | NOUN | noun | NN | noun, singular or mass\n",
      ". | PUNCT | punctuation | . | punctuation mark, sentence closer\n",
      "He | PRON | pronoun | PRP | pronoun, personal\n",
      "carried | VERB | verb | VBD | verb, past tense\n",
      "biryani | ADJ | adjective | JJ | adjective (English), other noun-modifier (Chinese)\n",
      "masala | NOUN | noun | NN | noun, singular or mass\n",
      "with | ADP | adposition | IN | conjunction, subordinating or preposition\n",
      "him | PRON | pronoun | PRP | pronoun, personal\n"
     ]
    }
   ],
   "source": [
    "doc = nlp(\"Elon flew to mars yesterday. He carried biryani masala with him\")\n",
    "\n",
    "for token in doc:\n",
    "    print(token, \"|\", token.pos_,\"|\",spacy.explain(token.pos_),\"|\",token.tag_,\"|\",spacy.explain(token.tag_))"
   ]
  },
  {
   "cell_type": "code",
   "execution_count": 8,
   "metadata": {},
   "outputs": [],
   "source": [
    "earnings_text=\"\"\"Microsoft Corp. today announced the following results for the quarter ended December 31, 2021, as compared to the corresponding period of last fiscal year:\n",
    "\n",
    "·         Revenue was $51.7 billion and increased 20%\n",
    "·         Operating income was $22.2 billion and increased 24%\n",
    "·         Net income was $18.8 billion and increased 21%\n",
    "·         Diluted earnings per share was $2.48 and increased 22%\n",
    "“Digital technology is the most malleable resource at the world’s disposal to overcome constraints and reimagine everyday work and life,” said Satya Nadella, chairman and chief executive officer of Microsoft. “As tech as a percentage of global GDP continues to increase, we are innovating and investing across diverse and growing markets, with a common underlying technology stack and an operating model that reinforces a common strategy, culture, and sense of purpose.”\n",
    "“Solid commercial execution, represented by strong bookings growth driven by long-term Azure commitments, increased Microsoft Cloud revenue to $22.1 billion, up 32% year over year” said Amy Hood, executive vice president and chief financial officer of Microsoft.\"\"\"\n"
   ]
  },
  {
   "cell_type": "code",
   "execution_count": 9,
   "metadata": {},
   "outputs": [
    {
     "name": "stdout",
     "output_type": "stream",
     "text": [
      "Microsoft | PROPN | proper noun | NNP | noun, proper singular\n",
      "Corp. | PROPN | proper noun | NNP | noun, proper singular\n",
      "today | NOUN | noun | NN | noun, singular or mass\n",
      "announced | VERB | verb | VBD | verb, past tense\n",
      "the | DET | determiner | DT | determiner\n",
      "following | VERB | verb | VBG | verb, gerund or present participle\n",
      "results | NOUN | noun | NNS | noun, plural\n",
      "for | ADP | adposition | IN | conjunction, subordinating or preposition\n",
      "the | DET | determiner | DT | determiner\n",
      "quarter | NOUN | noun | NN | noun, singular or mass\n",
      "ended | VERB | verb | VBN | verb, past participle\n",
      "December | PROPN | proper noun | NNP | noun, proper singular\n",
      "31 | NUM | numeral | CD | cardinal number\n",
      ", | PUNCT | punctuation | , | punctuation mark, comma\n",
      "2021 | NUM | numeral | CD | cardinal number\n",
      ", | PUNCT | punctuation | , | punctuation mark, comma\n",
      "as | SCONJ | subordinating conjunction | IN | conjunction, subordinating or preposition\n",
      "compared | VERB | verb | VBN | verb, past participle\n",
      "to | ADP | adposition | IN | conjunction, subordinating or preposition\n",
      "the | DET | determiner | DT | determiner\n",
      "corresponding | ADJ | adjective | JJ | adjective (English), other noun-modifier (Chinese)\n",
      "period | NOUN | noun | NN | noun, singular or mass\n",
      "of | ADP | adposition | IN | conjunction, subordinating or preposition\n",
      "last | ADJ | adjective | JJ | adjective (English), other noun-modifier (Chinese)\n",
      "fiscal | ADJ | adjective | JJ | adjective (English), other noun-modifier (Chinese)\n",
      "year | NOUN | noun | NN | noun, singular or mass\n",
      ": | PUNCT | punctuation | : | punctuation mark, colon or ellipsis\n",
      "\n",
      "\n",
      " | SPACE | space | _SP | whitespace\n",
      "· | PUNCT | punctuation | NFP | superfluous punctuation\n",
      "         | SPACE | space | _SP | whitespace\n",
      "Revenue | PROPN | proper noun | NNP | noun, proper singular\n",
      "was | AUX | auxiliary | VBD | verb, past tense\n",
      "$ | SYM | symbol | $ | symbol, currency\n",
      "51.7 | NUM | numeral | CD | cardinal number\n",
      "billion | NUM | numeral | CD | cardinal number\n",
      "and | CCONJ | coordinating conjunction | CC | conjunction, coordinating\n",
      "increased | VERB | verb | VBD | verb, past tense\n",
      "20 | NUM | numeral | CD | cardinal number\n",
      "% | NOUN | noun | NN | noun, singular or mass\n",
      "\n",
      " | SPACE | space | _SP | whitespace\n",
      "· | PUNCT | punctuation | NFP | superfluous punctuation\n",
      "         | SPACE | space | _SP | whitespace\n",
      "Operating | NOUN | noun | NN | noun, singular or mass\n",
      "income | NOUN | noun | NN | noun, singular or mass\n",
      "was | AUX | auxiliary | VBD | verb, past tense\n",
      "$ | SYM | symbol | $ | symbol, currency\n",
      "22.2 | NUM | numeral | CD | cardinal number\n",
      "billion | NUM | numeral | CD | cardinal number\n",
      "and | CCONJ | coordinating conjunction | CC | conjunction, coordinating\n",
      "increased | VERB | verb | VBD | verb, past tense\n",
      "24 | NUM | numeral | CD | cardinal number\n",
      "% | NOUN | noun | NN | noun, singular or mass\n",
      "\n",
      " | SPACE | space | _SP | whitespace\n",
      "· | PUNCT | punctuation | NFP | superfluous punctuation\n",
      "         | SPACE | space | _SP | whitespace\n",
      "Net | ADJ | adjective | JJ | adjective (English), other noun-modifier (Chinese)\n",
      "income | NOUN | noun | NN | noun, singular or mass\n",
      "was | AUX | auxiliary | VBD | verb, past tense\n",
      "$ | SYM | symbol | $ | symbol, currency\n",
      "18.8 | NUM | numeral | CD | cardinal number\n",
      "billion | NUM | numeral | CD | cardinal number\n",
      "and | CCONJ | coordinating conjunction | CC | conjunction, coordinating\n",
      "increased | VERB | verb | VBD | verb, past tense\n",
      "21 | NUM | numeral | CD | cardinal number\n",
      "% | NOUN | noun | NN | noun, singular or mass\n",
      "\n",
      " | SPACE | space | _SP | whitespace\n",
      "· | PUNCT | punctuation | NFP | superfluous punctuation\n",
      "         | SPACE | space | _SP | whitespace\n",
      "Diluted | VERB | verb | VBN | verb, past participle\n",
      "earnings | NOUN | noun | NNS | noun, plural\n",
      "per | ADP | adposition | IN | conjunction, subordinating or preposition\n",
      "share | NOUN | noun | NN | noun, singular or mass\n",
      "was | AUX | auxiliary | VBD | verb, past tense\n",
      "$ | SYM | symbol | $ | symbol, currency\n",
      "2.48 | NUM | numeral | CD | cardinal number\n",
      "and | CCONJ | coordinating conjunction | CC | conjunction, coordinating\n",
      "increased | VERB | verb | VBD | verb, past tense\n",
      "22 | NUM | numeral | CD | cardinal number\n",
      "% | NOUN | noun | NN | noun, singular or mass\n",
      "\n",
      " | SPACE | space | _SP | whitespace\n",
      "“ | PUNCT | punctuation | `` | opening quotation mark\n",
      "Digital | PROPN | proper noun | NNP | noun, proper singular\n",
      "technology | NOUN | noun | NN | noun, singular or mass\n",
      "is | AUX | auxiliary | VBZ | verb, 3rd person singular present\n",
      "the | DET | determiner | DT | determiner\n",
      "most | ADV | adverb | RBS | adverb, superlative\n",
      "malleable | ADJ | adjective | JJ | adjective (English), other noun-modifier (Chinese)\n",
      "resource | NOUN | noun | NN | noun, singular or mass\n",
      "at | ADP | adposition | IN | conjunction, subordinating or preposition\n",
      "the | DET | determiner | DT | determiner\n",
      "world | NOUN | noun | NN | noun, singular or mass\n",
      "’s | PART | particle | POS | possessive ending\n",
      "disposal | NOUN | noun | NN | noun, singular or mass\n",
      "to | PART | particle | TO | infinitival \"to\"\n",
      "overcome | VERB | verb | VB | verb, base form\n",
      "constraints | NOUN | noun | NNS | noun, plural\n",
      "and | CCONJ | coordinating conjunction | CC | conjunction, coordinating\n",
      "reimagine | VERB | verb | VB | verb, base form\n",
      "everyday | ADJ | adjective | JJ | adjective (English), other noun-modifier (Chinese)\n",
      "work | NOUN | noun | NN | noun, singular or mass\n",
      "and | CCONJ | coordinating conjunction | CC | conjunction, coordinating\n",
      "life | NOUN | noun | NN | noun, singular or mass\n",
      ", | PUNCT | punctuation | , | punctuation mark, comma\n",
      "” | PUNCT | punctuation | '' | closing quotation mark\n",
      "said | VERB | verb | VBD | verb, past tense\n",
      "Satya | PROPN | proper noun | NNP | noun, proper singular\n",
      "Nadella | PROPN | proper noun | NNP | noun, proper singular\n",
      ", | PUNCT | punctuation | , | punctuation mark, comma\n",
      "chairman | NOUN | noun | NN | noun, singular or mass\n",
      "and | CCONJ | coordinating conjunction | CC | conjunction, coordinating\n",
      "chief | ADJ | adjective | JJ | adjective (English), other noun-modifier (Chinese)\n",
      "executive | ADJ | adjective | JJ | adjective (English), other noun-modifier (Chinese)\n",
      "officer | NOUN | noun | NN | noun, singular or mass\n",
      "of | ADP | adposition | IN | conjunction, subordinating or preposition\n",
      "Microsoft | PROPN | proper noun | NNP | noun, proper singular\n",
      ". | PUNCT | punctuation | . | punctuation mark, sentence closer\n",
      "“ | PUNCT | punctuation | `` | opening quotation mark\n",
      "As | ADV | adverb | RB | adverb\n",
      "tech | ADJ | adjective | JJ | adjective (English), other noun-modifier (Chinese)\n",
      "as | ADP | adposition | IN | conjunction, subordinating or preposition\n",
      "a | DET | determiner | DT | determiner\n",
      "percentage | NOUN | noun | NN | noun, singular or mass\n",
      "of | ADP | adposition | IN | conjunction, subordinating or preposition\n",
      "global | ADJ | adjective | JJ | adjective (English), other noun-modifier (Chinese)\n",
      "GDP | PROPN | proper noun | NNP | noun, proper singular\n",
      "continues | VERB | verb | VBZ | verb, 3rd person singular present\n",
      "to | PART | particle | TO | infinitival \"to\"\n",
      "increase | VERB | verb | VB | verb, base form\n",
      ", | PUNCT | punctuation | , | punctuation mark, comma\n",
      "we | PRON | pronoun | PRP | pronoun, personal\n",
      "are | AUX | auxiliary | VBP | verb, non-3rd person singular present\n",
      "innovating | VERB | verb | VBG | verb, gerund or present participle\n",
      "and | CCONJ | coordinating conjunction | CC | conjunction, coordinating\n",
      "investing | VERB | verb | VBG | verb, gerund or present participle\n",
      "across | ADP | adposition | IN | conjunction, subordinating or preposition\n",
      "diverse | ADJ | adjective | JJ | adjective (English), other noun-modifier (Chinese)\n",
      "and | CCONJ | coordinating conjunction | CC | conjunction, coordinating\n",
      "growing | VERB | verb | VBG | verb, gerund or present participle\n",
      "markets | NOUN | noun | NNS | noun, plural\n",
      ", | PUNCT | punctuation | , | punctuation mark, comma\n",
      "with | ADP | adposition | IN | conjunction, subordinating or preposition\n",
      "a | DET | determiner | DT | determiner\n",
      "common | ADJ | adjective | JJ | adjective (English), other noun-modifier (Chinese)\n",
      "underlying | VERB | verb | VBG | verb, gerund or present participle\n",
      "technology | NOUN | noun | NN | noun, singular or mass\n",
      "stack | NOUN | noun | NN | noun, singular or mass\n",
      "and | CCONJ | coordinating conjunction | CC | conjunction, coordinating\n",
      "an | DET | determiner | DT | determiner\n",
      "operating | NOUN | noun | NN | noun, singular or mass\n",
      "model | NOUN | noun | NN | noun, singular or mass\n",
      "that | PRON | pronoun | WDT | wh-determiner\n",
      "reinforces | VERB | verb | VBZ | verb, 3rd person singular present\n",
      "a | DET | determiner | DT | determiner\n",
      "common | ADJ | adjective | JJ | adjective (English), other noun-modifier (Chinese)\n",
      "strategy | NOUN | noun | NN | noun, singular or mass\n",
      ", | PUNCT | punctuation | , | punctuation mark, comma\n",
      "culture | NOUN | noun | NN | noun, singular or mass\n",
      ", | PUNCT | punctuation | , | punctuation mark, comma\n",
      "and | CCONJ | coordinating conjunction | CC | conjunction, coordinating\n",
      "sense | NOUN | noun | NN | noun, singular or mass\n",
      "of | ADP | adposition | IN | conjunction, subordinating or preposition\n",
      "purpose | NOUN | noun | NN | noun, singular or mass\n",
      ". | PUNCT | punctuation | . | punctuation mark, sentence closer\n",
      "” | PUNCT | punctuation | '' | closing quotation mark\n",
      "\n",
      " | SPACE | space | _SP | whitespace\n",
      "“ | PUNCT | punctuation | `` | opening quotation mark\n",
      "Solid | ADJ | adjective | JJ | adjective (English), other noun-modifier (Chinese)\n",
      "commercial | ADJ | adjective | JJ | adjective (English), other noun-modifier (Chinese)\n",
      "execution | NOUN | noun | NN | noun, singular or mass\n",
      ", | PUNCT | punctuation | , | punctuation mark, comma\n",
      "represented | VERB | verb | VBN | verb, past participle\n",
      "by | ADP | adposition | IN | conjunction, subordinating or preposition\n",
      "strong | ADJ | adjective | JJ | adjective (English), other noun-modifier (Chinese)\n",
      "bookings | NOUN | noun | NNS | noun, plural\n",
      "growth | NOUN | noun | NN | noun, singular or mass\n",
      "driven | VERB | verb | VBN | verb, past participle\n",
      "by | ADP | adposition | IN | conjunction, subordinating or preposition\n",
      "long | ADJ | adjective | JJ | adjective (English), other noun-modifier (Chinese)\n",
      "- | PUNCT | punctuation | HYPH | punctuation mark, hyphen\n",
      "term | NOUN | noun | NN | noun, singular or mass\n",
      "Azure | PROPN | proper noun | NNP | noun, proper singular\n",
      "commitments | NOUN | noun | NNS | noun, plural\n",
      ", | PUNCT | punctuation | , | punctuation mark, comma\n",
      "increased | VERB | verb | VBD | verb, past tense\n",
      "Microsoft | PROPN | proper noun | NNP | noun, proper singular\n",
      "Cloud | PROPN | proper noun | NNP | noun, proper singular\n",
      "revenue | NOUN | noun | NN | noun, singular or mass\n",
      "to | ADP | adposition | IN | conjunction, subordinating or preposition\n",
      "$ | SYM | symbol | $ | symbol, currency\n",
      "22.1 | NUM | numeral | CD | cardinal number\n",
      "billion | NUM | numeral | CD | cardinal number\n",
      ", | PUNCT | punctuation | , | punctuation mark, comma\n",
      "up | ADV | adverb | RB | adverb\n",
      "32 | NUM | numeral | CD | cardinal number\n",
      "% | NOUN | noun | NN | noun, singular or mass\n",
      "year | NOUN | noun | NN | noun, singular or mass\n",
      "over | ADP | adposition | IN | conjunction, subordinating or preposition\n",
      "year | NOUN | noun | NN | noun, singular or mass\n",
      "” | PUNCT | punctuation | '' | closing quotation mark\n",
      "said | VERB | verb | VBD | verb, past tense\n",
      "Amy | PROPN | proper noun | NNP | noun, proper singular\n",
      "Hood | PROPN | proper noun | NNP | noun, proper singular\n",
      ", | PUNCT | punctuation | , | punctuation mark, comma\n",
      "executive | ADJ | adjective | JJ | adjective (English), other noun-modifier (Chinese)\n",
      "vice | NOUN | noun | NN | noun, singular or mass\n",
      "president | NOUN | noun | NN | noun, singular or mass\n",
      "and | CCONJ | coordinating conjunction | CC | conjunction, coordinating\n",
      "chief | ADJ | adjective | JJ | adjective (English), other noun-modifier (Chinese)\n",
      "financial | ADJ | adjective | JJ | adjective (English), other noun-modifier (Chinese)\n",
      "officer | NOUN | noun | NN | noun, singular or mass\n",
      "of | ADP | adposition | IN | conjunction, subordinating or preposition\n",
      "Microsoft | PROPN | proper noun | NNP | noun, proper singular\n",
      ". | PUNCT | punctuation | . | punctuation mark, sentence closer\n"
     ]
    }
   ],
   "source": [
    "doc = nlp(earnings_text)\n",
    "for token in doc:\n",
    "    print(token, \"|\", token.pos_,\"|\",spacy.explain(token.pos_),\"|\",token.tag_,\"|\",spacy.explain(token.tag_))"
   ]
  },
  {
   "cell_type": "code",
   "execution_count": 10,
   "metadata": {},
   "outputs": [],
   "source": [
    "doc = nlp(earnings_text)\n",
    "\n",
    "filtered_tokens = []\n",
    "\n",
    "for token in doc:\n",
    "    if token.pos_ not in [\"SPACE\", \"PUNCT\", \"X\"]:\n",
    "        filtered_tokens.append(token)"
   ]
  },
  {
   "cell_type": "code",
   "execution_count": 12,
   "metadata": {},
   "outputs": [
    {
     "data": {
      "text/plain": [
       "[Microsoft,\n",
       " Corp.,\n",
       " today,\n",
       " announced,\n",
       " the,\n",
       " following,\n",
       " results,\n",
       " for,\n",
       " the,\n",
       " quarter,\n",
       " ended,\n",
       " December,\n",
       " 31,\n",
       " 2021,\n",
       " as,\n",
       " compared,\n",
       " to,\n",
       " the,\n",
       " corresponding,\n",
       " period]"
      ]
     },
     "execution_count": 12,
     "metadata": {},
     "output_type": "execute_result"
    }
   ],
   "source": [
    "filtered_tokens[:20]"
   ]
  },
  {
   "cell_type": "code",
   "execution_count": 14,
   "metadata": {},
   "outputs": [
    {
     "data": {
      "text/plain": [
       "{96: 15,\n",
       " 92: 45,\n",
       " 100: 23,\n",
       " 90: 9,\n",
       " 85: 16,\n",
       " 93: 16,\n",
       " 97: 27,\n",
       " 98: 1,\n",
       " 84: 20,\n",
       " 103: 10,\n",
       " 87: 6,\n",
       " 99: 5,\n",
       " 89: 12,\n",
       " 86: 3,\n",
       " 94: 3,\n",
       " 95: 2}"
      ]
     },
     "execution_count": 14,
     "metadata": {},
     "output_type": "execute_result"
    }
   ],
   "source": [
    "import spacy.attrs\n",
    "\n",
    "\n",
    "count = doc.count_by(spacy.attrs.POS)\n",
    "count"
   ]
  },
  {
   "cell_type": "code",
   "execution_count": 15,
   "metadata": {},
   "outputs": [
    {
     "data": {
      "text/plain": [
       "'PROPN'"
      ]
     },
     "execution_count": 15,
     "metadata": {},
     "output_type": "execute_result"
    }
   ],
   "source": [
    "doc.vocab[96].text"
   ]
  },
  {
   "cell_type": "code",
   "execution_count": 16,
   "metadata": {},
   "outputs": [
    {
     "name": "stdout",
     "output_type": "stream",
     "text": [
      "PROPN | 15\n",
      "NOUN | 45\n",
      "VERB | 23\n",
      "DET | 9\n",
      "ADP | 16\n",
      "NUM | 16\n",
      "PUNCT | 27\n",
      "SCONJ | 1\n",
      "ADJ | 20\n",
      "SPACE | 10\n",
      "AUX | 6\n",
      "SYM | 5\n",
      "CCONJ | 12\n",
      "ADV | 3\n",
      "PART | 3\n",
      "PRON | 2\n"
     ]
    }
   ],
   "source": [
    "for k,v in count.items():\n",
    "    print(doc.vocab[k].text,\"|\",v)"
   ]
  },
  {
   "cell_type": "code",
   "execution_count": 18,
   "metadata": {},
   "outputs": [
    {
     "name": "stdout",
     "output_type": "stream",
     "text": [
      "The End\n"
     ]
    }
   ],
   "source": [
    "print(\"The End\")"
   ]
  }
 ],
 "metadata": {
  "kernelspec": {
   "display_name": "Python 3",
   "language": "python",
   "name": "python3"
  },
  "language_info": {
   "codemirror_mode": {
    "name": "ipython",
    "version": 3
   },
   "file_extension": ".py",
   "mimetype": "text/x-python",
   "name": "python",
   "nbconvert_exporter": "python",
   "pygments_lexer": "ipython3",
   "version": "3.10.16"
  }
 },
 "nbformat": 4,
 "nbformat_minor": 2
}
